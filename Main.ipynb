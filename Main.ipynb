
#initial size of the data
import pandas as pd

PATH = "/content/dynamic_supply_chain_logistics_dataset.csv"
df = pd.read_csv(PATH)
print(df.shape)
